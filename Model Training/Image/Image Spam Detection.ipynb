{
 "cells": [
  {
   "cell_type": "code",
   "execution_count": 2,
   "metadata": {
    "id": "PfN2vTmkDo37"
   },
   "outputs": [
    {
     "name": "stdout",
     "output_type": "stream",
     "text": [
      "Collecting split-foldersNote: you may need to restart the kernel to use updated packages.\n",
      "\n",
      "  Using cached split_folders-0.5.1-py3-none-any.whl.metadata (6.2 kB)\n",
      "Using cached split_folders-0.5.1-py3-none-any.whl (8.4 kB)\n",
      "Installing collected packages: split-folders\n",
      "Successfully installed split-folders-0.5.1\n"
     ]
    },
    {
     "name": "stderr",
     "output_type": "stream",
     "text": [
      "  WARNING: The scripts split-folders.exe, split_folders.exe and splitfolders.exe are installed in 'C:\\Users\\Kavana K\\anaconda3\\envs\\myenv\\Scripts' which is not on PATH.\n",
      "  Consider adding this directory to PATH or, if you prefer to suppress this warning, use --no-warn-script-location.\n"
     ]
    }
   ],
   "source": [
    "pip install split-folders\n"
   ]
  },
  {
   "cell_type": "code",
   "execution_count": 3,
   "metadata": {
    "id": "UOD_x9MwDinu"
   },
   "outputs": [
    {
     "name": "stderr",
     "output_type": "stream",
     "text": [
      "Copying files: 51 files [00:00, 358.50 files/s]\n"
     ]
    }
   ],
   "source": [
    "\n",
    "import splitfolders\n",
    "\n",
    "# dataset path\n",
    "input_folder = 'C:/Users/Kavana K/spam-image-detection/dataset'\n",
    "\n",
    "# Split with a ratio. To only split into training & validation set, set a tuple 'ratio', i.e,\n",
    "# Train(70%), Val(20), Test(10)\n",
    "splitfolders.ratio(input_folder, output='C:/Users/Kavana K/spam-image-detection',\n",
    "                   seed=42, ratio=(.7,.2,.1),\n",
    "                   group_prefix=None)"
   ]
  },
  {
   "cell_type": "code",
   "execution_count": 4,
   "metadata": {
    "id": "egJW8GC35ljv"
   },
   "outputs": [],
   "source": [
    "from tensorflow.keras.applications import VGG16, VGG19, InceptionV3\n",
    "from tensorflow.keras.layers import Dense, GlobalAveragePooling2D\n",
    "from tensorflow.keras.models import Model\n",
    "from tensorflow.keras.optimizers import Adam\n",
    "from tensorflow.keras.preprocessing.image import ImageDataGenerator"
   ]
  },
  {
   "cell_type": "code",
   "execution_count": 5,
   "metadata": {
    "id": "O21tsxuI5q7a"
   },
   "outputs": [],
   "source": [
    "import tensorflow as tf\n"
   ]
  },
  {
   "cell_type": "code",
   "execution_count": 7,
   "metadata": {
    "colab": {
     "base_uri": "https://localhost:8080/"
    },
    "id": "q1ej2hI15TpZ",
    "outputId": "d62ee35d-7a48-4556-fa5b-0cd04605698b"
   },
   "outputs": [
    {
     "name": "stdout",
     "output_type": "stream",
     "text": [
      "Found 35 images belonging to 1 classes.\n",
      "Found 10 images belonging to 1 classes.\n"
     ]
    }
   ],
   "source": [
    "\n",
    "\n",
    "def create_model(base_model, img_size=(224, 224), num_classes=1):\n",
    "    # Add new classification layers\n",
    "    x = base_model.output\n",
    "    x = GlobalAveragePooling2D()(x)\n",
    "    x = Dense(128, activation='relu')(x)\n",
    "    predictions = Dense(num_classes, activation='sigmoid')(x)\n",
    "\n",
    "    # Combine base model with new classification layers\n",
    "    model = Model(inputs=base_model.input, outputs=predictions)\n",
    "\n",
    "    # Freeze layers of the pre-trained model\n",
    "    for layer in base_model.layers:\n",
    "        layer.trainable = False\n",
    "\n",
    "    # Compile the model\n",
    "    model.compile(optimizer=Adam(lr=0.001), loss='binary_crossentropy', metrics=['accuracy'])\n",
    "\n",
    "    return model\n",
    "\n",
    "# Define a function to train the model\n",
    "def train_model(model, train_generator, validation_generator, epochs=10):\n",
    "    history = model.fit(\n",
    "        train_generator,\n",
    "        steps_per_epoch=train_generator.samples // batch_size,\n",
    "        epochs=epochs,\n",
    "        validation_data=validation_generator,\n",
    "        validation_steps=validation_generator.samples // batch_size\n",
    "    )\n",
    "    return history\n",
    "\n",
    "# Function to load a saved model\n",
    "def load_saved_model(model_path):\n",
    "    model = tf.keras.models.load_model(model_path)\n",
    "    return model\n",
    "\n",
    "# Example usage:\n",
    "\n",
    "# Define your dataset directory paths\n",
    "train_dir = 'C:/Users/Kavana K/spam-image-detection/train'\n",
    "validation_dir = 'C:/Users/Kavana K/spam-image-detection/val'\n",
    "\n",
    "# Define image size and batch size\n",
    "img_size = (224, 224)\n",
    "batch_size = 32\n",
    "\n",
    "# Data augmentation and preprocessing\n",
    "train_datagen = ImageDataGenerator(\n",
    "    rescale=1./255,\n",
    "    shear_range=0.2,\n",
    "    zoom_range=0.2,\n",
    "    horizontal_flip=True\n",
    ")\n",
    "\n",
    "train_generator = train_datagen.flow_from_directory(\n",
    "    train_dir,\n",
    "    target_size=img_size,\n",
    "    batch_size=batch_size,\n",
    "    class_mode='binary'\n",
    ")\n",
    "\n",
    "validation_datagen = ImageDataGenerator(rescale=1./255)\n",
    "\n",
    "validation_generator = validation_datagen.flow_from_directory(\n",
    "    validation_dir,\n",
    "    target_size=img_size,\n",
    "    batch_size=batch_size,\n",
    "    class_mode='binary'\n",
    ")\n"
   ]
  },
  {
   "cell_type": "code",
   "execution_count": 8,
   "metadata": {
    "id": "AMkXQT_R_r_2"
   },
   "outputs": [
    {
     "name": "stdout",
     "output_type": "stream",
     "text": [
      "Downloading data from https://storage.googleapis.com/tensorflow/keras-applications/vgg16/vgg16_weights_tf_dim_ordering_tf_kernels_notop.h5\n",
      "58889256/58889256 [==============================] - 8s 0us/step\n",
      "Downloading data from https://storage.googleapis.com/tensorflow/keras-applications/vgg19/vgg19_weights_tf_dim_ordering_tf_kernels_notop.h5\n",
      "80134624/80134624 [==============================] - 16s 0us/step\n",
      "Downloading data from https://storage.googleapis.com/tensorflow/keras-applications/resnet/resnet50_weights_tf_dim_ordering_tf_kernels_notop.h5\n",
      "94765736/94765736 [==============================] - 13s 0us/step\n",
      "Downloading data from https://storage.googleapis.com/tensorflow/keras-applications/inception_v3/inception_v3_weights_tf_dim_ordering_tf_kernels_notop.h5\n",
      "87910968/87910968 [==============================] - 12s 0us/step\n",
      "Downloading data from https://storage.googleapis.com/tensorflow/keras-applications/mobilenet_v2/mobilenet_v2_weights_tf_dim_ordering_tf_kernels_1.0_224_no_top.h5\n",
      "9406464/9406464 [==============================] - 7s 1us/step\n",
      "Downloading data from https://storage.googleapis.com/tensorflow/keras-applications/densenet/densenet121_weights_tf_dim_ordering_tf_kernels_notop.h5\n",
      "29084464/29084464 [==============================] - 4s 0us/step\n"
     ]
    },
    {
     "name": "stderr",
     "output_type": "stream",
     "text": [
      "WARNING:absl:`lr` is deprecated in Keras optimizer, please use `learning_rate` or use the legacy optimizer, e.g.,tf.keras.optimizers.legacy.Adam.\n",
      "WARNING:absl:`lr` is deprecated in Keras optimizer, please use `learning_rate` or use the legacy optimizer, e.g.,tf.keras.optimizers.legacy.Adam.\n",
      "WARNING:absl:`lr` is deprecated in Keras optimizer, please use `learning_rate` or use the legacy optimizer, e.g.,tf.keras.optimizers.legacy.Adam.\n",
      "WARNING:absl:`lr` is deprecated in Keras optimizer, please use `learning_rate` or use the legacy optimizer, e.g.,tf.keras.optimizers.legacy.Adam.\n",
      "WARNING:absl:`lr` is deprecated in Keras optimizer, please use `learning_rate` or use the legacy optimizer, e.g.,tf.keras.optimizers.legacy.Adam.\n",
      "WARNING:absl:`lr` is deprecated in Keras optimizer, please use `learning_rate` or use the legacy optimizer, e.g.,tf.keras.optimizers.legacy.Adam.\n"
     ]
    },
    {
     "name": "stdout",
     "output_type": "stream",
     "text": [
      "Epoch 1/10\n",
      "1/1 [==============================] - 6s 6s/step - loss: 0.7814 - accuracy: 0.1562\n",
      "Epoch 2/10\n",
      "1/1 [==============================] - 1s 531ms/step - loss: 0.5167 - accuracy: 1.0000\n",
      "Epoch 3/10\n",
      "1/1 [==============================] - 1s 530ms/step - loss: 0.3280 - accuracy: 1.0000\n",
      "Epoch 4/10\n",
      "1/1 [==============================] - 1s 597ms/step - loss: 0.1829 - accuracy: 1.0000\n",
      "Epoch 5/10\n",
      "1/1 [==============================] - 1s 582ms/step - loss: 0.1409 - accuracy: 1.0000\n",
      "Epoch 6/10\n",
      "1/1 [==============================] - 1s 652ms/step - loss: 0.0710 - accuracy: 1.0000\n",
      "Epoch 7/10\n",
      "1/1 [==============================] - 1s 552ms/step - loss: 0.0647 - accuracy: 1.0000\n",
      "Epoch 8/10\n",
      "1/1 [==============================] - 1s 550ms/step - loss: 0.0399 - accuracy: 1.0000\n",
      "Epoch 9/10\n",
      "1/1 [==============================] - 4s 4s/step - loss: 0.0263 - accuracy: 1.0000\n",
      "Epoch 10/10\n",
      "1/1 [==============================] - 0s 477ms/step - loss: 0.0186 - accuracy: 1.0000\n",
      "Epoch 1/10\n",
      "1/1 [==============================] - 3s 3s/step - loss: 0.6028 - accuracy: 1.0000\n",
      "Epoch 2/10\n",
      "1/1 [==============================] - 1s 971ms/step - loss: 0.3862 - accuracy: 1.0000\n",
      "Epoch 3/10\n",
      "1/1 [==============================] - 1s 695ms/step - loss: 0.2646 - accuracy: 1.0000\n",
      "Epoch 4/10\n",
      "1/1 [==============================] - 5s 5s/step - loss: 0.1623 - accuracy: 1.0000\n",
      "Epoch 5/10\n",
      "1/1 [==============================] - 4s 4s/step - loss: 0.1032 - accuracy: 1.0000\n",
      "Epoch 6/10\n",
      "1/1 [==============================] - 5s 5s/step - loss: 0.0678 - accuracy: 1.0000\n",
      "Epoch 7/10\n",
      "1/1 [==============================] - 1s 609ms/step - loss: 0.0474 - accuracy: 1.0000\n",
      "Epoch 8/10\n",
      "1/1 [==============================] - 5s 5s/step - loss: 0.0315 - accuracy: 1.0000\n",
      "Epoch 9/10\n",
      "1/1 [==============================] - 1s 687ms/step - loss: 0.0193 - accuracy: 1.0000\n",
      "Epoch 10/10\n",
      "1/1 [==============================] - 5s 5s/step - loss: 0.0166 - accuracy: 1.0000\n",
      "Epoch 1/10\n",
      "1/1 [==============================] - 10s 10s/step - loss: 1.6557 - accuracy: 0.0000e+00\n",
      "Epoch 2/10\n",
      "1/1 [==============================] - 0s 498ms/step - loss: 0.5038 - accuracy: 1.0000\n",
      "Epoch 3/10\n",
      "1/1 [==============================] - 2s 2s/step - loss: 0.1312 - accuracy: 1.0000\n",
      "Epoch 4/10\n",
      "1/1 [==============================] - 3s 3s/step - loss: 0.0351 - accuracy: 1.0000\n",
      "Epoch 5/10\n",
      "1/1 [==============================] - 3s 3s/step - loss: 0.0118 - accuracy: 1.0000\n",
      "Epoch 6/10\n",
      "1/1 [==============================] - 1s 581ms/step - loss: 0.0064 - accuracy: 1.0000\n",
      "Epoch 7/10\n",
      "1/1 [==============================] - 1s 627ms/step - loss: 0.0024 - accuracy: 1.0000\n",
      "Epoch 8/10\n",
      "1/1 [==============================] - 2s 2s/step - loss: 0.0013 - accuracy: 1.0000\n",
      "Epoch 9/10\n",
      "1/1 [==============================] - 1s 592ms/step - loss: 8.4651e-04 - accuracy: 1.0000\n",
      "Epoch 10/10\n",
      "1/1 [==============================] - 0s 388ms/step - loss: 5.1710e-04 - accuracy: 1.0000\n",
      "Epoch 1/10\n",
      "1/1 [==============================] - 8s 8s/step - loss: 0.5353 - accuracy: 1.0000\n",
      "Epoch 2/10\n",
      "1/1 [==============================] - 2s 2s/step - loss: 0.0069 - accuracy: 1.0000\n",
      "Epoch 3/10\n",
      "1/1 [==============================] - 0s 272ms/step - loss: 0.0024 - accuracy: 1.0000\n",
      "Epoch 4/10\n",
      "1/1 [==============================] - 2s 2s/step - loss: 7.7051e-06 - accuracy: 1.0000\n",
      "Epoch 5/10\n",
      "1/1 [==============================] - 0s 273ms/step - loss: 1.0502e-07 - accuracy: 1.0000\n",
      "Epoch 6/10\n",
      "1/1 [==============================] - 0s 346ms/step - loss: 8.0442e-07 - accuracy: 1.0000\n",
      "Epoch 7/10\n",
      "1/1 [==============================] - 2s 2s/step - loss: 2.9073e-07 - accuracy: 1.0000\n",
      "Epoch 8/10\n",
      "1/1 [==============================] - 2s 2s/step - loss: 3.0823e-08 - accuracy: 1.0000\n",
      "Epoch 9/10\n",
      "1/1 [==============================] - 0s 286ms/step - loss: 2.4221e-09 - accuracy: 1.0000\n",
      "Epoch 10/10\n",
      "1/1 [==============================] - 2s 2s/step - loss: 6.5138e-09 - accuracy: 1.0000\n",
      "Epoch 1/10\n",
      "1/1 [==============================] - 6s 6s/step - loss: 0.4488 - accuracy: 0.8750\n",
      "Epoch 2/10\n",
      "1/1 [==============================] - 0s 226ms/step - loss: 0.0127 - accuracy: 1.0000\n",
      "Epoch 3/10\n",
      "1/1 [==============================] - 1s 1s/step - loss: 0.0068 - accuracy: 1.0000\n",
      "Epoch 4/10\n",
      "1/1 [==============================] - 0s 215ms/step - loss: 0.0081 - accuracy: 1.0000\n",
      "Epoch 5/10\n",
      "1/1 [==============================] - 0s 390ms/step - loss: 0.0063 - accuracy: 1.0000\n",
      "Epoch 6/10\n",
      "1/1 [==============================] - 1s 1s/step - loss: 3.7411e-04 - accuracy: 1.0000\n",
      "Epoch 7/10\n",
      "1/1 [==============================] - 0s 264ms/step - loss: 2.2459e-04 - accuracy: 1.0000\n",
      "Epoch 8/10\n",
      "1/1 [==============================] - 0s 216ms/step - loss: 1.9226e-04 - accuracy: 1.0000\n",
      "Epoch 9/10\n",
      "1/1 [==============================] - 0s 221ms/step - loss: 1.7251e-08 - accuracy: 1.0000\n",
      "Epoch 10/10\n",
      "1/1 [==============================] - 2s 2s/step - loss: 2.6470e-05 - accuracy: 1.0000\n",
      "Epoch 1/10\n",
      "1/1 [==============================] - 13s 13s/step - loss: 1.0610 - accuracy: 0.1562\n",
      "Epoch 2/10\n",
      "1/1 [==============================] - 0s 468ms/step - loss: 0.2595 - accuracy: 1.0000\n",
      "Epoch 3/10\n",
      "1/1 [==============================] - 3s 3s/step - loss: 0.0507 - accuracy: 1.0000\n",
      "Epoch 4/10\n",
      "1/1 [==============================] - 1s 579ms/step - loss: 0.0048 - accuracy: 1.0000\n",
      "Epoch 5/10\n",
      "1/1 [==============================] - 3s 3s/step - loss: 0.0066 - accuracy: 1.0000\n",
      "Epoch 6/10\n",
      "1/1 [==============================] - 3s 3s/step - loss: 0.0024 - accuracy: 1.0000\n",
      "Epoch 7/10\n",
      "1/1 [==============================] - 3s 3s/step - loss: 0.0015 - accuracy: 1.0000\n",
      "Epoch 8/10\n",
      "1/1 [==============================] - 0s 484ms/step - loss: 7.2088e-04 - accuracy: 1.0000\n",
      "Epoch 9/10\n",
      "1/1 [==============================] - 1s 538ms/step - loss: 5.6527e-04 - accuracy: 1.0000\n",
      "Epoch 10/10\n",
      "1/1 [==============================] - 3s 3s/step - loss: 2.8025e-04 - accuracy: 1.0000\n"
     ]
    },
    {
     "name": "stderr",
     "output_type": "stream",
     "text": [
      "C:\\Users\\Kavana K\\anaconda3\\envs\\myenv\\lib\\site-packages\\keras\\src\\engine\\training.py:3000: UserWarning: You are saving your model as an HDF5 file via `model.save()`. This file format is considered legacy. We recommend using instead the native Keras format, e.g. `model.save('my_model.keras')`.\n",
      "  saving_api.save_model(\n"
     ]
    }
   ],
   "source": [
    "from tensorflow.keras.applications import VGG19, ResNet50, InceptionV3, MobileNetV2, DenseNet121\n",
    "\n",
    "# Choose the base model\n",
    "base_model_vgg16 = VGG16(weights='imagenet', include_top=False, input_shape=(224, 224, 3))\n",
    "base_model_vgg19 = VGG19(weights='imagenet', include_top=False, input_shape=(224, 224, 3))\n",
    "base_model_resnet50 = ResNet50(weights='imagenet', include_top=False, input_shape=(224, 224, 3))\n",
    "base_model_inceptionv3 = InceptionV3(weights='imagenet', include_top=False, input_shape=(224, 224, 3))\n",
    "base_model_mobilenetv2 = MobileNetV2(weights='imagenet', include_top=False, input_shape=(224, 224, 3))\n",
    "base_model_densenet50 = DenseNet121(weights='imagenet', include_top=False, input_shape=(224, 224, 3))\n",
    "\n",
    "# Create models using the function for different base models\n",
    "model_vgg16 = create_model(base_model_vgg16)\n",
    "model_vgg19 = create_model(base_model_vgg19)\n",
    "model_resnet50 = create_model(base_model_resnet50)\n",
    "model_inceptionv3 = create_model(base_model_inceptionv3)\n",
    "model_mobilenetv2 = create_model(base_model_mobilenetv2)\n",
    "model_densenet50 = create_model(base_model_densenet50)\n",
    "\n",
    "# Train the models\n",
    "history_vgg16 = train_model(model_vgg16, train_generator, validation_generator)\n",
    "history_vgg19 = train_model(model_vgg19, train_generator, validation_generator)\n",
    "history_resnet50 = train_model(model_resnet50, train_generator, validation_generator)\n",
    "history_inceptionv3 = train_model(model_inceptionv3, train_generator, validation_generator)\n",
    "history_mobilenetv2 = train_model(model_mobilenetv2, train_generator, validation_generator)\n",
    "history_densenet50 = train_model(model_densenet50, train_generator, validation_generator)\n",
    "\n",
    "# Save the models\n",
    "model_vgg16.save('spam_image_filter_model_vgg16.h5')\n",
    "model_vgg19.save('spam_image_filter_model_vgg19.h5')\n",
    "model_resnet50.save('spam_image_filter_model_resnet50.h5')\n",
    "model_inceptionv3.save('spam_image_filter_model_inceptionv3.h5')\n",
    "model_mobilenetv2.save('spam_image_filter_model_mobilenetv2.h5')\n",
    "model_densenet50.save('spam_image_filter_model_densenet50.h5')\n"
   ]
  },
  {
   "cell_type": "code",
   "execution_count": 16,
   "metadata": {
    "id": "uiqjEE9iDg9u"
   },
   "outputs": [
    {
     "name": "stdout",
     "output_type": "stream",
     "text": [
      "1/1 [==============================] - 0s 495ms/step\n",
      "The uploaded image is predicted as NOT SPAM.\n"
     ]
    }
   ],
   "source": [
    "import tensorflow as tf\n",
    "from tensorflow.keras.preprocessing import image\n",
    "import numpy as np\n",
    "\n",
    "# Load the trained model\n",
    "model = tf.keras.models.load_model('spam_image_filter_model (1).h5')\n",
    "\n",
    "# Function to preprocess uploaded image\n",
    "def preprocess_image(image_path):\n",
    "    img = image.load_img(image_path, target_size=(224, 224))\n",
    "    img_array = image.img_to_array(img)\n",
    "    img_array = np.expand_dims(img_array, axis=0)\n",
    "    return img_array\n",
    "\n",
    "# Function to predict whether the image contains spam or not\n",
    "def predict_spam(image_path):\n",
    "    processed_img = preprocess_image(image_path)\n",
    "    prediction = model.predict(processed_img)\n",
    "    return prediction[0][0]  # Return the prediction value (probability)\n",
    "\n",
    "# Provide the path to the uploaded image for prediction\n",
    "uploaded_image_path = 'C:/Users/Kavana K/spam-image-detection/test/uploads/dis_leaf_7_iaip.jpg'\n",
    "\n",
    "# Predict whether the uploaded image contains spam\n",
    "prediction_result = predict_spam(uploaded_image_path)\n",
    "\n",
    "# Threshold for considering if it's spam or not (adjust as needed)\n",
    "spam_threshold = 0.5\n",
    "\n",
    "if prediction_result >= spam_threshold:\n",
    "    print(\"The uploaded image is predicted as SPAM.\")\n",
    "else:\n",
    "    print(\"The uploaded image is predicted as NOT SPAM.\")\n"
   ]
  },
  {
   "cell_type": "code",
   "execution_count": 22,
   "metadata": {
    "id": "_lFvLStEEz8X"
   },
   "outputs": [],
   "source": [
    "import pickle\n",
    "import tensorflow as tf\n",
    "\n",
    "# Load the trained model\n",
    "model = tf.keras.models.load_model('spam_image_filter_model (1).h5')\n",
    "\n",
    "# Save model configuration and weights using pickle\n",
    "with open('spam_image_filter_model.pkl', 'wb') as f:\n",
    "    pickle.dump(model.to_json(), f)  # Save model architecture\n",
    "    model.save_weights('spam_image_filter_weights.h5')  # Save model weights\n"
   ]
  },
  {
   "cell_type": "code",
   "execution_count": 23,
   "metadata": {},
   "outputs": [],
   "source": [
    "import pickle\n",
    "import tensorflow as tf\n",
    "\n",
    "# Load model architecture from pickle\n",
    "with open('spam_image_filter_model.pkl', 'rb') as f:\n",
    "    model_json = pickle.load(f)\n",
    "\n",
    "# Load the model architecture and weights\n",
    "model = tf.keras.models.model_from_json(model_json)\n",
    "model.load_weights('spam_image_filter_weights.h5')\n"
   ]
  },
  {
   "cell_type": "code",
   "execution_count": 24,
   "metadata": {},
   "outputs": [],
   "source": [
    "with open('C:/Users/Kavana K/spam-image-detection/spam_image_filter_model.pkl', 'wb') as f:\n",
    "    pickle.dump(model.to_json(), f)\n"
   ]
  },
  {
   "cell_type": "code",
   "execution_count": 25,
   "metadata": {},
   "outputs": [],
   "source": [
    "model.save_weights('C:/Users/Kavana K/spam-image-detection/spam_image_filter_weights.h5')"
   ]
  },
  {
   "cell_type": "markdown",
   "metadata": {
    "id": "6Q1df_hWE0lK"
   },
   "source": [
    "# predict individual data using all models"
   ]
  },
  {
   "cell_type": "code",
   "execution_count": null,
   "metadata": {
    "id": "GkM_5OplEznD"
   },
   "outputs": [],
   "source": [
    "# import tensorflow as tf\n",
    "# from tensorflow.keras.preprocessing import image\n",
    "# import numpy as np\n",
    "\n",
    "# # Load the trained model based on the model name\n",
    "# def load_saved_model(model_name):\n",
    "#     model_path = f'spam_image_filter_model_{model_name}.h5'\n",
    "#     return tf.keras.models.load_model(model_path)\n",
    "\n",
    "# # Function to preprocess uploaded image\n",
    "# def preprocess_image(image_path):\n",
    "#     img = image.load_img(image_path, target_size=(224, 224))\n",
    "#     img_array = image.img_to_array(img)\n",
    "#     img_array = np.expand_dims(img_array, axis=0)\n",
    "#     return img_array\n",
    "\n",
    "# # Function to predict whether the image contains spam or not\n",
    "# def predict_spam(model, image_path):\n",
    "#     processed_img = preprocess_image(image_path)\n",
    "#     prediction = model.predict(processed_img)\n",
    "#     return prediction[0][0]  # Return the prediction value (probability)\n",
    "\n",
    "# # Provide the path to the uploaded image for prediction\n",
    "# uploaded_image_path = '/content/drive/MyDrive/SPAM IMAGE dataset/SpamImages/05D89BDjGS.jpg'\n",
    "\n",
    "# # List of model names\n",
    "# model_names = ['vgg16', 'vgg19', 'resnet50', 'inceptionv3', 'mobilenetv2', 'densenet50']\n",
    "\n",
    "# # Iterate through models and perform predictions\n",
    "# for model_name in model_names:\n",
    "#     # Load the model\n",
    "#     model = load_saved_model(model_name)\n",
    "\n",
    "#     # Predict whether the uploaded image contains spam\n",
    "#     prediction_result = predict_spam(model, uploaded_image_path)\n",
    "\n",
    "#     # Threshold for considering if it's spam or not (adjust as needed)\n",
    "#     spam_threshold = 0.5\n",
    "\n",
    "#     # Print prediction result for each model\n",
    "#     if prediction_result >= spam_threshold:\n",
    "#         print(f\"The uploaded image using {model_name.upper()} model is predicted as SPAM.\")\n",
    "#     else:\n",
    "#         print(f\"The uploaded image using {model_name.upper()} model is predicted as NOT SPAM.\")\n"
   ]
  }
 ],
 "metadata": {
  "colab": {
   "provenance": []
  },
  "kernelspec": {
   "display_name": "Python (myenv)",
   "language": "python",
   "name": "myenv"
  },
  "language_info": {
   "codemirror_mode": {
    "name": "ipython",
    "version": 3
   },
   "file_extension": ".py",
   "mimetype": "text/x-python",
   "name": "python",
   "nbconvert_exporter": "python",
   "pygments_lexer": "ipython3",
   "version": "3.8.19"
  }
 },
 "nbformat": 4,
 "nbformat_minor": 4
}
